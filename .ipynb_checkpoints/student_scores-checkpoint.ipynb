{
 "cells": [
  {
   "cell_type": "code",
   "execution_count": 1,
   "id": "cda977c7",
   "metadata": {},
   "outputs": [],
   "source": [
    "import numpy as np\n",
    "import pandas as pd\n",
    "import pandas\n",
    "import matplotlib.pyplot as plt\n",
    "import seaborn as sns"
   ]
  },
  {
   "cell_type": "code",
   "execution_count": 2,
   "id": "55411631",
   "metadata": {},
   "outputs": [
    {
     "name": "stdout",
     "output_type": "stream",
     "text": [
      "   Python   Sql    ML  Tableau  Excel Student Placed\n",
      "0    0.80  0.57  0.63     0.50   0.34            Yes\n",
      "1    0.81  0.90  0.62     0.71   0.92             No\n",
      "2    0.49  0.69  0.62     0.64   0.41             No\n",
      "3    0.40  0.94  0.60     0.26   0.47             No\n",
      "4    0.31  0.87  1.00     0.23   0.99             No\n"
     ]
    }
   ],
   "source": [
    "df = pd.read_csv(\"scores.csv\")\n",
    "print(df.head())"
   ]
  },
  {
   "cell_type": "code",
   "execution_count": 3,
   "id": "b4e2c00f",
   "metadata": {},
   "outputs": [
    {
     "data": {
      "text/html": [
       "<div>\n",
       "<style scoped>\n",
       "    .dataframe tbody tr th:only-of-type {\n",
       "        vertical-align: middle;\n",
       "    }\n",
       "\n",
       "    .dataframe tbody tr th {\n",
       "        vertical-align: top;\n",
       "    }\n",
       "\n",
       "    .dataframe thead th {\n",
       "        text-align: right;\n",
       "    }\n",
       "</style>\n",
       "<table border=\"1\" class=\"dataframe\">\n",
       "  <thead>\n",
       "    <tr style=\"text-align: right;\">\n",
       "      <th></th>\n",
       "      <th>Python</th>\n",
       "      <th>Sql</th>\n",
       "      <th>ML</th>\n",
       "      <th>Tableau</th>\n",
       "      <th>Excel</th>\n",
       "    </tr>\n",
       "  </thead>\n",
       "  <tbody>\n",
       "    <tr>\n",
       "      <th>count</th>\n",
       "      <td>200.000000</td>\n",
       "      <td>200.000000</td>\n",
       "      <td>200.000000</td>\n",
       "      <td>200.000000</td>\n",
       "      <td>200.000000</td>\n",
       "    </tr>\n",
       "    <tr>\n",
       "      <th>mean</th>\n",
       "      <td>0.514100</td>\n",
       "      <td>0.495850</td>\n",
       "      <td>0.514350</td>\n",
       "      <td>0.495150</td>\n",
       "      <td>0.474950</td>\n",
       "    </tr>\n",
       "    <tr>\n",
       "      <th>std</th>\n",
       "      <td>0.305749</td>\n",
       "      <td>0.290694</td>\n",
       "      <td>0.285211</td>\n",
       "      <td>0.292463</td>\n",
       "      <td>0.281686</td>\n",
       "    </tr>\n",
       "    <tr>\n",
       "      <th>min</th>\n",
       "      <td>0.000000</td>\n",
       "      <td>0.010000</td>\n",
       "      <td>0.000000</td>\n",
       "      <td>0.010000</td>\n",
       "      <td>0.000000</td>\n",
       "    </tr>\n",
       "    <tr>\n",
       "      <th>25%</th>\n",
       "      <td>0.237500</td>\n",
       "      <td>0.227500</td>\n",
       "      <td>0.267500</td>\n",
       "      <td>0.240000</td>\n",
       "      <td>0.227500</td>\n",
       "    </tr>\n",
       "    <tr>\n",
       "      <th>50%</th>\n",
       "      <td>0.545000</td>\n",
       "      <td>0.490000</td>\n",
       "      <td>0.540000</td>\n",
       "      <td>0.500000</td>\n",
       "      <td>0.485000</td>\n",
       "    </tr>\n",
       "    <tr>\n",
       "      <th>75%</th>\n",
       "      <td>0.800000</td>\n",
       "      <td>0.740000</td>\n",
       "      <td>0.770000</td>\n",
       "      <td>0.740000</td>\n",
       "      <td>0.702500</td>\n",
       "    </tr>\n",
       "    <tr>\n",
       "      <th>max</th>\n",
       "      <td>1.000000</td>\n",
       "      <td>1.000000</td>\n",
       "      <td>1.000000</td>\n",
       "      <td>1.000000</td>\n",
       "      <td>0.990000</td>\n",
       "    </tr>\n",
       "  </tbody>\n",
       "</table>\n",
       "</div>"
      ],
      "text/plain": [
       "           Python         Sql          ML     Tableau       Excel\n",
       "count  200.000000  200.000000  200.000000  200.000000  200.000000\n",
       "mean     0.514100    0.495850    0.514350    0.495150    0.474950\n",
       "std      0.305749    0.290694    0.285211    0.292463    0.281686\n",
       "min      0.000000    0.010000    0.000000    0.010000    0.000000\n",
       "25%      0.237500    0.227500    0.267500    0.240000    0.227500\n",
       "50%      0.545000    0.490000    0.540000    0.500000    0.485000\n",
       "75%      0.800000    0.740000    0.770000    0.740000    0.702500\n",
       "max      1.000000    1.000000    1.000000    1.000000    0.990000"
      ]
     },
     "execution_count": 3,
     "metadata": {},
     "output_type": "execute_result"
    }
   ],
   "source": [
    "df.describe()"
   ]
  },
  {
   "cell_type": "code",
   "execution_count": 4,
   "id": "6633737a",
   "metadata": {},
   "outputs": [
    {
     "name": "stdout",
     "output_type": "stream",
     "text": [
      "<class 'pandas.core.frame.DataFrame'>\n",
      "RangeIndex: 200 entries, 0 to 199\n",
      "Data columns (total 6 columns):\n",
      " #   Column          Non-Null Count  Dtype  \n",
      "---  ------          --------------  -----  \n",
      " 0   Python          200 non-null    float64\n",
      " 1   Sql             200 non-null    float64\n",
      " 2   ML              200 non-null    float64\n",
      " 3   Tableau         200 non-null    float64\n",
      " 4   Excel           200 non-null    float64\n",
      " 5   Student Placed  200 non-null    object \n",
      "dtypes: float64(5), object(1)\n",
      "memory usage: 9.5+ KB\n"
     ]
    }
   ],
   "source": [
    "df.info()"
   ]
  },
  {
   "cell_type": "code",
   "execution_count": 5,
   "id": "1954ddd5",
   "metadata": {},
   "outputs": [
    {
     "data": {
      "text/plain": [
       "Python            0\n",
       "Sql               0\n",
       "ML                0\n",
       "Tableau           0\n",
       "Excel             0\n",
       "Student Placed    0\n",
       "dtype: int64"
      ]
     },
     "execution_count": 5,
     "metadata": {},
     "output_type": "execute_result"
    }
   ],
   "source": [
    "df.isnull().sum()"
   ]
  },
  {
   "cell_type": "code",
   "execution_count": 6,
   "id": "455d7444",
   "metadata": {},
   "outputs": [],
   "source": [
    "df = df.drop(\"ML\", axis = 1)"
   ]
  },
  {
   "cell_type": "code",
   "execution_count": 7,
   "id": "9fe40937",
   "metadata": {},
   "outputs": [
    {
     "name": "stdout",
     "output_type": "stream",
     "text": [
      "   Python   Sql  Tableau  Excel Student Placed\n",
      "0    0.80  0.57     0.50   0.34            Yes\n",
      "1    0.81  0.90     0.71   0.92             No\n",
      "2    0.49  0.69     0.64   0.41             No\n",
      "3    0.40  0.94     0.26   0.47             No\n",
      "4    0.31  0.87     0.23   0.99             No\n"
     ]
    }
   ],
   "source": [
    "print(df.head())"
   ]
  },
  {
   "cell_type": "code",
   "execution_count": 8,
   "id": "67274c2b",
   "metadata": {},
   "outputs": [
    {
     "name": "stdout",
     "output_type": "stream",
     "text": [
      "     Python   Sql  Tableau  Excel Student Placed\n",
      "0      0.80  0.57     0.50   0.34            Yes\n",
      "1      0.81  0.90     0.71   0.92             No\n",
      "2      0.49  0.69     0.64   0.41             No\n",
      "3      0.40  0.94     0.26   0.47             No\n",
      "4      0.31  0.87     0.23   0.99             No\n",
      "..      ...   ...      ...    ...            ...\n",
      "195    0.47  0.13     0.10   0.11            Yes\n",
      "196    0.14  0.49     0.33   0.85            Yes\n",
      "197    0.95  0.65     0.74   0.61            Yes\n",
      "198    0.60  0.99     0.71   0.93            Yes\n",
      "199    0.87  0.23     0.45   0.42            Yes\n",
      "\n",
      "[200 rows x 5 columns]\n"
     ]
    }
   ],
   "source": [
    "print(df)"
   ]
  },
  {
   "cell_type": "code",
   "execution_count": 9,
   "id": "b9639fca",
   "metadata": {},
   "outputs": [],
   "source": [
    "df['Excel'] = df['Excel'].replace(0.99, 1.00)"
   ]
  },
  {
   "cell_type": "code",
   "execution_count": 10,
   "id": "4622681f",
   "metadata": {},
   "outputs": [
    {
     "name": "stdout",
     "output_type": "stream",
     "text": [
      "     Python   Sql  Tableau  Excel Student Placed\n",
      "0      0.80  0.57     0.50   0.34            Yes\n",
      "1      0.81  0.90     0.71   0.92             No\n",
      "2      0.49  0.69     0.64   0.41             No\n",
      "3      0.40  0.94     0.26   0.47             No\n",
      "4      0.31  0.87     0.23   1.00             No\n",
      "..      ...   ...      ...    ...            ...\n",
      "195    0.47  0.13     0.10   0.11            Yes\n",
      "196    0.14  0.49     0.33   0.85            Yes\n",
      "197    0.95  0.65     0.74   0.61            Yes\n",
      "198    0.60  0.99     0.71   0.93            Yes\n",
      "199    0.87  0.23     0.45   0.42            Yes\n",
      "\n",
      "[200 rows x 5 columns]\n"
     ]
    }
   ],
   "source": [
    "print(df)"
   ]
  },
  {
   "cell_type": "markdown",
   "id": "cdcc977b",
   "metadata": {},
   "source": [
    "Python"
   ]
  },
  {
   "cell_type": "code",
   "execution_count": 11,
   "id": "768bc756",
   "metadata": {},
   "outputs": [
    {
     "data": {
      "image/png": "[encoded data removed]",
      "text/plain": [
       "<Figure size 2000x400 with 1 Axes>"
      ]
     },
     "metadata": {},
     "output_type": "display_data"
    }
   ],
   "source": [
    "plt.figure(figsize = (20,4))\n",
    "ax= sns.countplot(data = df, x = \"Python\")\n",
    "ax.bar_label(ax.containers[0])\n",
    "plt.show()"
   ]
  },
  {
   "cell_type": "code",
   "execution_count": 12,
   "id": "9795c94f",
   "metadata": {},
   "outputs": [],
   "source": [
    "gb = df.groupby('Student Placed')"
   ]
  },
  {
   "cell_type": "code",
   "execution_count": 13,
   "id": "57c8aed8",
   "metadata": {},
   "outputs": [
    {
     "name": "stdout",
     "output_type": "stream",
     "text": [
      "[('No',      Python   Sql  Tableau  Excel Student Placed\n",
      "1      0.81  0.90     0.71   0.92             No\n",
      "2      0.49  0.69     0.64   0.41             No\n",
      "3      0.40  0.94     0.26   0.47             No\n",
      "4      0.31  0.87     0.23   1.00             No\n",
      "5      0.14  0.87     0.92   0.70             No\n",
      "..      ...   ...      ...    ...            ...\n",
      "190    0.23  0.92     0.86   0.79             No\n",
      "191    1.00  0.35     0.91   0.87             No\n",
      "192    0.29  0.46     0.46   0.10             No\n",
      "193    0.62  0.13     0.41   0.77             No\n",
      "194    0.98  0.42     0.03   0.43             No\n",
      "\n",
      "[84 rows x 5 columns]), ('Yes',      Python   Sql  Tableau  Excel Student Placed\n",
      "0      0.80  0.57     0.50   0.34            Yes\n",
      "15     0.11  0.35     0.82   0.40            Yes\n",
      "16     0.08  0.97     0.10   0.25            Yes\n",
      "17     0.38  0.46     0.74   0.11            Yes\n",
      "18     0.89  0.01     0.51   0.47            Yes\n",
      "..      ...   ...      ...    ...            ...\n",
      "195    0.47  0.13     0.10   0.11            Yes\n",
      "196    0.14  0.49     0.33   0.85            Yes\n",
      "197    0.95  0.65     0.74   0.61            Yes\n",
      "198    0.60  0.99     0.71   0.93            Yes\n",
      "199    0.87  0.23     0.45   0.42            Yes\n",
      "\n",
      "[116 rows x 5 columns])]\n"
     ]
    }
   ],
   "source": [
    "print(list(gb))"
   ]
  },
  {
   "cell_type": "code",
   "execution_count": 18,
   "id": "ab7e1b05",
   "metadata": {},
   "outputs": [
    {
     "name": "stdout",
     "output_type": "stream",
     "text": [
      "                  Python     Excel   Tableau       Sql\n",
      "Student Placed                                        \n",
      "No              0.520595  0.461786  0.479286  0.496786\n",
      "Yes             0.509397  0.484569  0.506638  0.495172\n"
     ]
    }
   ],
   "source": [
    "gb = df.groupby('Student Placed').agg({'Python': 'mean', 'Excel': 'mean', 'Tableau': 'mean','Sql': 'mean'})\n",
    "print(gb)"
   ]
  },
  {
   "cell_type": "code",
   "execution_count": null,
   "id": "36d00405",
   "metadata": {},
   "outputs": [],
   "source": []
  }
 ],
 "metadata": {
  "kernelspec": {
   "display_name": "Python 3 (ipykernel)",
   "language": "python",
   "name": "python3"
  },
  "language_info": {
   "codemirror_mode": {
    "name": "ipython",
    "version": 3
   },
   "file_extension": ".py",
   "mimetype": "text/x-python",
   "name": "python",
   "nbconvert_exporter": "python",
   "pygments_lexer": "ipython3",
   "version": "3.11.5"
  }
 },
 "nbformat": 4,
 "nbformat_minor": 5
}
