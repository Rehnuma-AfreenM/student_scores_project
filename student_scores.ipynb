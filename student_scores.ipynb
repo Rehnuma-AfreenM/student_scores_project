{
 "cells": [
  {
   "cell_type": "code",
   "execution_count": 1,
   "id": "0815524e",
   "metadata": {},
   "outputs": [],
   "source": [
    "import numpy as np\n",
    "import pandas as pd\n",
    "import pandas\n",
    "import matplotlib.pyplot as plt\n",
    "import seaborn as sns"
   ]
  },
  {
   "cell_type": "code",
   "execution_count": 2,
   "id": "354aa7d1",
   "metadata": {},
   "outputs": [
    {
     "name": "stdout",
     "output_type": "stream",
     "text": [
      "   Python   Sql    ML  Tableau  Excel Student Placed\n",
      "0    0.80  0.57  0.63     0.50   0.34            Yes\n",
      "1    0.81  0.90  0.62     0.71   0.92             No\n",
      "2    0.49  0.69  0.62     0.64   0.41             No\n",
      "3    0.40  0.94  0.60     0.26   0.47             No\n",
      "4    0.31  0.87  1.00     0.23   0.99             No\n"
     ]
    }
   ],
   "source": [
    "df = pd.read_csv(\"scores.csv\")\n",
    "print(df.head())"
   ]
  },
  {
   "cell_type": "code",
   "execution_count": 3,
   "id": "f72f185c",
   "metadata": {},
   "outputs": [
    {
     "data": {
      "text/html": [
       "<div>\n",
       "<style scoped>\n",
       "    .dataframe tbody tr th:only-of-type {\n",
       "        vertical-align: middle;\n",
       "    }\n",
       "\n",
       "    .dataframe tbody tr th {\n",
       "        vertical-align: top;\n",
       "    }\n",
       "\n",
       "    .dataframe thead th {\n",
       "        text-align: right;\n",
       "    }\n",
       "</style>\n",
       "<table border=\"1\" class=\"dataframe\">\n",
       "  <thead>\n",
       "    <tr style=\"text-align: right;\">\n",
       "      <th></th>\n",
       "      <th>Python</th>\n",
       "      <th>Sql</th>\n",
       "      <th>ML</th>\n",
       "      <th>Tableau</th>\n",
       "      <th>Excel</th>\n",
       "    </tr>\n",
       "  </thead>\n",
       "  <tbody>\n",
       "    <tr>\n",
       "      <th>count</th>\n",
       "      <td>200.000000</td>\n",
       "      <td>200.000000</td>\n",
       "      <td>200.000000</td>\n",
       "      <td>200.000000</td>\n",
       "      <td>200.000000</td>\n",
       "    </tr>\n",
       "    <tr>\n",
       "      <th>mean</th>\n",
       "      <td>0.514100</td>\n",
       "      <td>0.495850</td>\n",
       "      <td>0.514350</td>\n",
       "      <td>0.495150</td>\n",
       "      <td>0.474950</td>\n",
       "    </tr>\n",
       "    <tr>\n",
       "      <th>std</th>\n",
       "      <td>0.305749</td>\n",
       "      <td>0.290694</td>\n",
       "      <td>0.285211</td>\n",
       "      <td>0.292463</td>\n",
       "      <td>0.281686</td>\n",
       "    </tr>\n",
       "    <tr>\n",
       "      <th>min</th>\n",
       "      <td>0.000000</td>\n",
       "      <td>0.010000</td>\n",
       "      <td>0.000000</td>\n",
       "      <td>0.010000</td>\n",
       "      <td>0.000000</td>\n",
       "    </tr>\n",
       "    <tr>\n",
       "      <th>25%</th>\n",
       "      <td>0.237500</td>\n",
       "      <td>0.227500</td>\n",
       "      <td>0.267500</td>\n",
       "      <td>0.240000</td>\n",
       "      <td>0.227500</td>\n",
       "    </tr>\n",
       "    <tr>\n",
       "      <th>50%</th>\n",
       "      <td>0.545000</td>\n",
       "      <td>0.490000</td>\n",
       "      <td>0.540000</td>\n",
       "      <td>0.500000</td>\n",
       "      <td>0.485000</td>\n",
       "    </tr>\n",
       "    <tr>\n",
       "      <th>75%</th>\n",
       "      <td>0.800000</td>\n",
       "      <td>0.740000</td>\n",
       "      <td>0.770000</td>\n",
       "      <td>0.740000</td>\n",
       "      <td>0.702500</td>\n",
       "    </tr>\n",
       "    <tr>\n",
       "      <th>max</th>\n",
       "      <td>1.000000</td>\n",
       "      <td>1.000000</td>\n",
       "      <td>1.000000</td>\n",
       "      <td>1.000000</td>\n",
       "      <td>0.990000</td>\n",
       "    </tr>\n",
       "  </tbody>\n",
       "</table>\n",
       "</div>"
      ],
      "text/plain": [
       "           Python         Sql          ML     Tableau       Excel\n",
       "count  200.000000  200.000000  200.000000  200.000000  200.000000\n",
       "mean     0.514100    0.495850    0.514350    0.495150    0.474950\n",
       "std      0.305749    0.290694    0.285211    0.292463    0.281686\n",
       "min      0.000000    0.010000    0.000000    0.010000    0.000000\n",
       "25%      0.237500    0.227500    0.267500    0.240000    0.227500\n",
       "50%      0.545000    0.490000    0.540000    0.500000    0.485000\n",
       "75%      0.800000    0.740000    0.770000    0.740000    0.702500\n",
       "max      1.000000    1.000000    1.000000    1.000000    0.990000"
      ]
     },
     "execution_count": 3,
     "metadata": {},
     "output_type": "execute_result"
    }
   ],
   "source": [
    "df.describe()"
   ]
  },
  {
   "cell_type": "code",
   "execution_count": 4,
   "id": "edf74186",
   "metadata": {},
   "outputs": [
    {
     "name": "stdout",
     "output_type": "stream",
     "text": [
      "<class 'pandas.core.frame.DataFrame'>\n",
      "RangeIndex: 200 entries, 0 to 199\n",
      "Data columns (total 6 columns):\n",
      " #   Column          Non-Null Count  Dtype  \n",
      "---  ------          --------------  -----  \n",
      " 0   Python          200 non-null    float64\n",
      " 1   Sql             200 non-null    float64\n",
      " 2   ML              200 non-null    float64\n",
      " 3   Tableau         200 non-null    float64\n",
      " 4   Excel           200 non-null    float64\n",
      " 5   Student Placed  200 non-null    object \n",
      "dtypes: float64(5), object(1)\n",
      "memory usage: 9.5+ KB\n"
     ]
    }
   ],
   "source": [
    "df.info()"
   ]
  },
  {
   "cell_type": "code",
   "execution_count": 5,
   "id": "1d7b5226",
   "metadata": {},
   "outputs": [
    {
     "data": {
      "text/plain": [
       "Python            0\n",
       "Sql               0\n",
       "ML                0\n",
       "Tableau           0\n",
       "Excel             0\n",
       "Student Placed    0\n",
       "dtype: int64"
      ]
     },
     "execution_count": 5,
     "metadata": {},
     "output_type": "execute_result"
    }
   ],
   "source": [
    "df.isnull().sum()"
   ]
  },
  {
   "cell_type": "code",
   "execution_count": 6,
   "id": "0651156a",
   "metadata": {},
   "outputs": [],
   "source": [
    "df = df.drop(\"ML\", axis = 1)"
   ]
  },
  {
   "cell_type": "code",
   "execution_count": 7,
   "id": "bf3cfe24",
   "metadata": {},
   "outputs": [
    {
     "name": "stdout",
     "output_type": "stream",
     "text": [
      "   Python   Sql  Tableau  Excel Student Placed\n",
      "0    0.80  0.57     0.50   0.34            Yes\n",
      "1    0.81  0.90     0.71   0.92             No\n",
      "2    0.49  0.69     0.64   0.41             No\n",
      "3    0.40  0.94     0.26   0.47             No\n",
      "4    0.31  0.87     0.23   0.99             No\n"
     ]
    }
   ],
   "source": [
    "print(df.head())"
   ]
  },
  {
   "cell_type": "code",
   "execution_count": 8,
   "id": "07ca9f0e",
   "metadata": {},
   "outputs": [
    {
     "name": "stdout",
     "output_type": "stream",
     "text": [
      "     Python   Sql  Tableau  Excel Student Placed\n",
      "0      0.80  0.57     0.50   0.34            Yes\n",
      "1      0.81  0.90     0.71   0.92             No\n",
      "2      0.49  0.69     0.64   0.41             No\n",
      "3      0.40  0.94     0.26   0.47             No\n",
      "4      0.31  0.87     0.23   0.99             No\n",
      "..      ...   ...      ...    ...            ...\n",
      "195    0.47  0.13     0.10   0.11            Yes\n",
      "196    0.14  0.49     0.33   0.85            Yes\n",
      "197    0.95  0.65     0.74   0.61            Yes\n",
      "198    0.60  0.99     0.71   0.93            Yes\n",
      "199    0.87  0.23     0.45   0.42            Yes\n",
      "\n",
      "[200 rows x 5 columns]\n"
     ]
    }
   ],
   "source": [
    "print(df)"
   ]
  },
  {
   "cell_type": "code",
   "execution_count": 9,
   "id": "2d9d1c31",
   "metadata": {},
   "outputs": [],
   "source": [
    "df['Excel'] = df['Excel'].replace(0.99, 1.00)"
   ]
  },
  {
   "cell_type": "code",
   "execution_count": 10,
   "id": "3d214b62",
   "metadata": {},
   "outputs": [
    {
     "name": "stdout",
     "output_type": "stream",
     "text": [
      "     Python   Sql  Tableau  Excel Student Placed\n",
      "0      0.80  0.57     0.50   0.34            Yes\n",
      "1      0.81  0.90     0.71   0.92             No\n",
      "2      0.49  0.69     0.64   0.41             No\n",
      "3      0.40  0.94     0.26   0.47             No\n",
      "4      0.31  0.87     0.23   1.00             No\n",
      "..      ...   ...      ...    ...            ...\n",
      "195    0.47  0.13     0.10   0.11            Yes\n",
      "196    0.14  0.49     0.33   0.85            Yes\n",
      "197    0.95  0.65     0.74   0.61            Yes\n",
      "198    0.60  0.99     0.71   0.93            Yes\n",
      "199    0.87  0.23     0.45   0.42            Yes\n",
      "\n",
      "[200 rows x 5 columns]\n"
     ]
    }
   ],
   "source": [
    "print(df)"
   ]
  },
  {
   "cell_type": "markdown",
   "id": "798c8964",
   "metadata": {},
   "source": [
    "Python"
   ]
  },
  {
   "cell_type": "code",
   "execution_count": 11,
   "id": "65d4ac5a",
   "metadata": {},
   "outputs": [
    {
     "data": {
      "image/png": "[encoded data removed]",
      "text/plain": [
       "<Figure size 2000x400 with 1 Axes>"
      ]
     },
     "metadata": {},
     "output_type": "display_data"
    }
   ],
   "source": [
    "plt.figure(figsize = (20,4))\n",
    "ax= sns.countplot(data = df, x = \"Python\")\n",
    "ax.bar_label(ax.containers[0])\n",
    "plt.show()"
   ]
  },
  {
   "cell_type": "code",
   "execution_count": 12,
   "id": "16554f2a",
   "metadata": {},
   "outputs": [],
   "source": [
    "gb = df.groupby('Student Placed')"
   ]
  },
  {
   "cell_type": "code",
   "execution_count": 13,
   "id": "5015816b",
   "metadata": {},
   "outputs": [
    {
     "name": "stdout",
     "output_type": "stream",
     "text": [
      "[('No',      Python   Sql  Tableau  Excel Student Placed\n",
      "1      0.81  0.90     0.71   0.92             No\n",
      "2      0.49  0.69     0.64   0.41             No\n",
      "3      0.40  0.94     0.26   0.47             No\n",
      "4      0.31  0.87     0.23   1.00             No\n",
      "5      0.14  0.87     0.92   0.70             No\n",
      "..      ...   ...      ...    ...            ...\n",
      "190    0.23  0.92     0.86   0.79             No\n",
      "191    1.00  0.35     0.91   0.87             No\n",
      "192    0.29  0.46     0.46   0.10             No\n",
      "193    0.62  0.13     0.41   0.77             No\n",
      "194    0.98  0.42     0.03   0.43             No\n",
      "\n",
      "[84 rows x 5 columns]), ('Yes',      Python   Sql  Tableau  Excel Student Placed\n",
      "0      0.80  0.57     0.50   0.34            Yes\n",
      "15     0.11  0.35     0.82   0.40            Yes\n",
      "16     0.08  0.97     0.10   0.25            Yes\n",
      "17     0.38  0.46     0.74   0.11            Yes\n",
      "18     0.89  0.01     0.51   0.47            Yes\n",
      "..      ...   ...      ...    ...            ...\n",
      "195    0.47  0.13     0.10   0.11            Yes\n",
      "196    0.14  0.49     0.33   0.85            Yes\n",
      "197    0.95  0.65     0.74   0.61            Yes\n",
      "198    0.60  0.99     0.71   0.93            Yes\n",
      "199    0.87  0.23     0.45   0.42            Yes\n",
      "\n",
      "[116 rows x 5 columns])]\n"
     ]
    }
   ],
   "source": [
    "print(list(gb))"
   ]
  },
  {
   "cell_type": "code",
   "execution_count": 14,
   "id": "f237eee6",
   "metadata": {},
   "outputs": [
    {
     "name": "stdout",
     "output_type": "stream",
     "text": [
      "                  Python     Excel   Tableau       Sql\n",
      "Student Placed                                        \n",
      "No              0.520595  0.461786  0.479286  0.496786\n",
      "Yes             0.509397  0.484569  0.506638  0.495172\n"
     ]
    }
   ],
   "source": [
    "gb = df.groupby('Student Placed').agg({'Python': 'mean', 'Excel': 'mean', 'Tableau': 'mean','Sql': 'mean'})\n",
    "print(gb)"
   ]
  },
  {
   "cell_type": "code",
   "execution_count": 15,
   "id": "cda9268a",
   "metadata": {},
   "outputs": [
    {
     "data": {
      "text/plain": [
       "<Axes: ylabel='Student Placed'>"
      ]
     },
     "execution_count": 15,
     "metadata": {},
     "output_type": "execute_result"
    },
    {
     "data": {
      "image/png": "[encoded data removed]",
      "text/plain": [
       "<Figure size 640x480 with 2 Axes>"
      ]
     },
     "metadata": {},
     "output_type": "display_data"
    }
   ],
   "source": [
    "sns.heatmap(gb, annot = True)"
   ]
  },
  {
   "cell_type": "code",
   "execution_count": 16,
   "id": "994bce34",
   "metadata": {},
   "outputs": [
    {
     "data": {
      "image/png": "[encoded data removed]",
      "text/plain": [
       "<Figure size 640x480 with 1 Axes>"
      ]
     },
     "metadata": {},
     "output_type": "display_data"
    }
   ],
   "source": [
    "sns.boxplot(data = df, x= 'Sql')\n",
    "plt.show()"
   ]
  },
  {
   "cell_type": "code",
   "execution_count": 17,
   "id": "56583ae4",
   "metadata": {},
   "outputs": [
    {
     "data": {
      "image/png": "[encoded data removed]",
      "text/plain": [
       "<Figure size 640x480 with 1 Axes>"
      ]
     },
     "metadata": {},
     "output_type": "display_data"
    }
   ],
   "source": [
    "sns.boxplot(data = df, x= 'Python')\n",
    "plt.show()"
   ]
  },
  {
   "cell_type": "code",
   "execution_count": 18,
   "id": "ecc4ee35",
   "metadata": {},
   "outputs": [
    {
     "data": {
      "image/png": "[encoded data removed]",
      "text/plain": [
       "<Figure size 640x480 with 1 Axes>"
      ]
     },
     "metadata": {},
     "output_type": "display_data"
    }
   ],
   "source": [
    "sns.boxplot(data = df, x= 'Excel')\n",
    "plt.show()"
   ]
  },
  {
   "cell_type": "code",
   "execution_count": 19,
   "id": "ce5de3c5",
   "metadata": {},
   "outputs": [
    {
     "data": {
      "image/png": "[encoded data removed]",
      "text/plain": [
       "<Figure size 640x480 with 1 Axes>"
      ]
     },
     "metadata": {},
     "output_type": "display_data"
    }
   ],
   "source": [
    "sns.boxplot(data = df, x= 'Tableau')\n",
    "plt.show()"
   ]
  },
  {
   "cell_type": "code",
   "execution_count": 20,
   "id": "b9978055",
   "metadata": {},
   "outputs": [
    {
     "name": "stdout",
     "output_type": "stream",
     "text": [
      "['Yes' 'No']\n"
     ]
    }
   ],
   "source": [
    "print(df[\"Student Placed\"].unique())"
   ]
  },
  {
   "cell_type": "code",
   "execution_count": 21,
   "id": "3074fbae",
   "metadata": {},
   "outputs": [],
   "source": [
    "yess = df.loc[(df[\"Student Placed\"] == 'Yes')].count()\n",
    "Nooo = df.loc[(df[\"Student Placed\"] == 'No')].count()"
   ]
  },
  {
   "cell_type": "code",
   "execution_count": 22,
   "id": "9fa597d8",
   "metadata": {},
   "outputs": [
    {
     "name": "stdout",
     "output_type": "stream",
     "text": [
      "Python            116\n",
      "Sql               116\n",
      "Tableau           116\n",
      "Excel             116\n",
      "Student Placed    116\n",
      "dtype: int64\n"
     ]
    }
   ],
   "source": [
    "print(yess)"
   ]
  },
  {
   "cell_type": "code",
   "execution_count": 23,
   "id": "2cd8ee84",
   "metadata": {},
   "outputs": [
    {
     "name": "stdout",
     "output_type": "stream",
     "text": [
      "Python            84\n",
      "Sql               84\n",
      "Tableau           84\n",
      "Excel             84\n",
      "Student Placed    84\n",
      "dtype: int64\n"
     ]
    }
   ],
   "source": [
    "print(Nooo)"
   ]
  },
  {
   "cell_type": "code",
   "execution_count": 24,
   "id": "9267a8c4",
   "metadata": {},
   "outputs": [
    {
     "data": {
      "image/png": "[encoded data removed]",
      "text/plain": [
       "<Figure size 640x480 with 1 Axes>"
      ]
     },
     "metadata": {},
     "output_type": "display_data"
    },
    {
     "name": "stdout",
     "output_type": "stream",
     "text": [
      "['yess', 'Nooo']\n"
     ]
    }
   ],
   "source": [
    "mlist = [yess['Student Placed'],Nooo['Student Placed']]\n",
    "l = [\"yess\",'Nooo']\n",
    "plt.pie(mlist, labels = l, autopct = \"%1.2f%%\")\n",
    "plt.show()\n",
    "print(l)"
   ]
  },
  {
   "cell_type": "code",
   "execution_count": 25,
   "id": "34e0c509",
   "metadata": {},
   "outputs": [
    {
     "data": {
      "text/plain": [
       "[Text(0, 0, '116'), Text(0, 0, '84')]"
      ]
     },
     "execution_count": 25,
     "metadata": {},
     "output_type": "execute_result"
    },
    {
     "data": {
      "image/png": "[encoded data removed]",
      "text/plain": [
       "<Figure size 640x480 with 1 Axes>"
      ]
     },
     "metadata": {},
     "output_type": "display_data"
    }
   ],
   "source": [
    "ax = sns.countplot(data = df, x = \"Student Placed\")\n",
    "ax.bar_label(ax.containers[0])"
   ]
  },
  {
   "cell_type": "code",
   "execution_count": 26,
   "id": "b0a5d54a",
   "metadata": {},
   "outputs": [
    {
     "name": "stdout",
     "output_type": "stream",
     "text": [
      "[(0.0,      Python   Sql  Tableau  Excel Student Placed\n",
      "42      0.0  0.36     0.75   0.11             No\n",
      "59      0.0  0.55     0.04   0.22            Yes\n",
      "106     0.0  0.56     0.43   0.41            Yes), (0.02,     Python   Sql  Tableau  Excel Student Placed\n",
      "38    0.02  0.26     0.56   0.32             No\n",
      "43    0.02  0.76     0.17   0.58             No\n",
      "96    0.02  0.18     0.76   0.76            Yes), (0.03,      Python   Sql  Tableau  Excel Student Placed\n",
      "33     0.03  0.33     0.06   0.42            Yes\n",
      "151    0.03  0.11     0.11   0.29             No\n",
      "166    0.03  0.92     0.88   0.46            Yes), (0.04,      Python  Sql  Tableau  Excel Student Placed\n",
      "127    0.04  0.2     0.36   0.71            Yes), (0.05,      Python   Sql  Tableau  Excel Student Placed\n",
      "86     0.05  0.18     0.35   0.50             No\n",
      "176    0.05  0.72     0.52   0.27            Yes), (0.07,      Python   Sql  Tableau  Excel Student Placed\n",
      "66     0.07  0.63     0.22   0.87            Yes\n",
      "167    0.07  0.90     0.26   0.61            Yes), (0.08,     Python   Sql  Tableau  Excel Student Placed\n",
      "7     0.08  0.78     0.40   0.63             No\n",
      "16    0.08  0.97     0.10   0.25            Yes\n",
      "27    0.08  0.17     0.02   0.35            Yes), (0.09,      Python   Sql  Tableau  Excel Student Placed\n",
      "20     0.09  0.16     0.87   0.01            Yes\n",
      "114    0.09  0.39     0.43   0.24             No), (0.1,      Python   Sql  Tableau  Excel Student Placed\n",
      "52      0.1  0.13     1.00   0.52            Yes\n",
      "174     0.1  0.23     0.54   0.95            Yes), (0.11,     Python   Sql  Tableau  Excel Student Placed\n",
      "15    0.11  0.35     0.82    0.4            Yes), (0.12,      Python   Sql  Tableau  Excel Student Placed\n",
      "22     0.12  0.37     0.46   0.79            Yes\n",
      "118    0.12  0.20     0.19   0.64             No\n",
      "147    0.12  0.14     0.73   0.21             No\n",
      "175    0.12  0.68     0.53   0.49            Yes), (0.13,      Python   Sql  Tableau  Excel Student Placed\n",
      "26     0.13  0.24     0.68   0.48            Yes\n",
      "170    0.13  0.77     0.52   0.60            Yes), (0.14,      Python   Sql  Tableau  Excel Student Placed\n",
      "5      0.14  0.87     0.92   0.70             No\n",
      "135    0.14  0.12     0.14   0.87            Yes\n",
      "196    0.14  0.49     0.33   0.85            Yes), (0.15,      Python   Sql  Tableau  Excel Student Placed\n",
      "36     0.15  0.66     0.65   0.79            Yes\n",
      "110    0.15  0.88     0.53   0.51             No\n",
      "124    0.15  0.91     0.42   0.50            Yes\n",
      "160    0.15  0.92     0.94   0.10            Yes), (0.16,      Python   Sql  Tableau  Excel Student Placed\n",
      "25     0.16  0.45     0.98   0.11            Yes\n",
      "128    0.16  0.33     0.16   0.59            Yes\n",
      "180    0.16  0.52     0.20   0.79            Yes), (0.17,     Python   Sql  Tableau  Excel Student Placed\n",
      "99    0.17  0.07      0.4    0.1            Yes), (0.18,      Python  Sql  Tableau  Excel Student Placed\n",
      "156    0.18  0.7     0.63   0.41             No), (0.19,      Python   Sql  Tableau  Excel Student Placed\n",
      "47     0.19  0.02     0.56   0.04             No\n",
      "49     0.19  0.99     0.67   0.28             No\n",
      "95     0.19  0.56     0.85   0.27            Yes\n",
      "134    0.19  0.18     0.31   0.43            Yes), (0.2,      Python   Sql  Tableau  Excel Student Placed\n",
      "121     0.2  0.39     0.63    0.2             No), (0.21,    Python  Sql  Tableau  Excel Student Placed\n",
      "6    0.21  0.8     0.63   0.36             No), (0.22,     Python   Sql  Tableau  Excel Student Placed\n",
      "11    0.22  0.63     0.02   0.29             No\n",
      "63    0.22  0.41     0.79   0.81            Yes), (0.23,      Python   Sql  Tableau  Excel Student Placed\n",
      "149    0.23  0.62     0.16   0.82             No\n",
      "190    0.23  0.92     0.86   0.79             No), (0.24,      Python   Sql  Tableau  Excel Student Placed\n",
      "61     0.24  0.39     0.95   0.68            Yes\n",
      "88     0.24  0.34     0.05   0.57            Yes\n",
      "104    0.24  0.51     0.05   0.17            Yes\n",
      "172    0.24  0.94     0.95   0.19            Yes), (0.25,      Python   Sql  Tableau  Excel Student Placed\n",
      "130    0.25  0.74     0.88   0.94            Yes), (0.26,      Python   Sql  Tableau  Excel Student Placed\n",
      "177    0.26  0.83     0.89   0.15            Yes\n",
      "187    0.26  0.92     0.65   0.10             No), (0.27,     Python   Sql  Tableau  Excel Student Placed\n",
      "29    0.27  0.24     0.71   0.36            Yes\n",
      "74    0.27  0.52     0.68   0.25             No\n",
      "84    0.27  0.11     0.72   0.52             No), (0.28,      Python   Sql  Tableau  Excel Student Placed\n",
      "10     0.28  0.13     1.00   0.06             No\n",
      "93     0.28  0.70     0.45   0.35            Yes\n",
      "123    0.28  0.82     0.17   0.55            Yes), (0.29,      Python   Sql  Tableau  Excel Student Placed\n",
      "192    0.29  0.46     0.46    0.1             No), (0.3,     Python   Sql  Tableau  Excel Student Placed\n",
      "19     0.3  0.37     0.18   0.59            Yes), (0.31,    Python   Sql  Tableau  Excel Student Placed\n",
      "4    0.31  0.87     0.23   1.00             No\n",
      "9    0.31  0.28     0.12   0.67             No), (0.32,      Python   Sql  Tableau  Excel Student Placed\n",
      "164    0.32  0.92     0.64   0.92            Yes), (0.33,      Python   Sql  Tableau  Excel Student Placed\n",
      "64     0.33  0.88     0.35   0.82            Yes\n",
      "111    0.33  0.98     0.95   0.17             No), (0.34,      Python   Sql  Tableau  Excel Student Placed\n",
      "44     0.34  0.33     0.79   0.35             No\n",
      "73     0.34  0.07     0.04   0.66             No\n",
      "168    0.34  0.92     0.02   0.66            Yes), (0.35,     Python  Sql  Tableau  Excel Student Placed\n",
      "68    0.35  0.2     0.65   0.59            Yes), (0.37,     Python   Sql  Tableau  Excel Student Placed\n",
      "50    0.37  0.46     0.31   0.83             No\n",
      "92    0.37  0.88     0.65   0.64            Yes), (0.38,     Python   Sql  Tableau  Excel Student Placed\n",
      "17    0.38  0.46     0.74   0.11            Yes\n",
      "40    0.38  0.44     0.42   0.85             No\n",
      "57    0.38  0.51     0.34   0.04            Yes\n",
      "91    0.38  0.45     0.10   0.26            Yes), (0.39,      Python   Sql  Tableau  Excel Student Placed\n",
      "109    0.39  0.05     0.50   0.60             No\n",
      "115    0.39  0.40     0.51   0.20             No\n",
      "181    0.39  0.69     0.98   0.22             No), (0.4,     Python   Sql  Tableau  Excel Student Placed\n",
      "3      0.4  0.94     0.26   0.47             No\n",
      "21     0.4  0.56     0.45   0.80            Yes), (0.41,     Python   Sql  Tableau  Excel Student Placed\n",
      "78    0.41  0.19      0.6   0.58             No), (0.44,      Python  Sql  Tableau  Excel Student Placed\n",
      "184    0.44  1.0     0.05   0.83             No), (0.45,     Python   Sql  Tableau  Excel Student Placed\n",
      "24    0.45  0.80     0.24   0.02            Yes\n",
      "45    0.45  0.83     0.12   0.24             No), (0.47,      Python   Sql  Tableau  Excel Student Placed\n",
      "30     0.47  0.32     0.88   0.21            Yes\n",
      "154    0.47  0.23     0.31   0.15             No\n",
      "195    0.47  0.13     0.10   0.11            Yes), (0.48,     Python   Sql  Tableau  Excel Student Placed\n",
      "28    0.48  0.29      0.8   0.45            Yes), (0.49,    Python   Sql  Tableau  Excel Student Placed\n",
      "2    0.49  0.69     0.64   0.41             No), (0.5,      Python   Sql  Tableau  Excel Student Placed\n",
      "131     0.5  0.04     0.94   0.49            Yes), (0.52,     Python   Sql  Tableau  Excel Student Placed\n",
      "48    0.52  0.79     0.86   0.51             No), (0.53,      Python   Sql  Tableau  Excel Student Placed\n",
      "39     0.53  0.22     0.72   0.22             No\n",
      "94     0.53  0.82     0.10   0.84            Yes\n",
      "102    0.53  0.09     0.23   0.65            Yes), (0.54,     Python   Sql  Tableau  Excel Student Placed\n",
      "46    0.54  0.49     0.01   0.16             No), (0.55,      Python   Sql  Tableau  Excel Student Placed\n",
      "62     0.55  0.02     0.77   0.57            Yes\n",
      "188    0.55  0.41     0.70   0.75             No), (0.56,      Python   Sql  Tableau  Excel Student Placed\n",
      "41     0.56  0.57     0.31   0.15             No\n",
      "56     0.56  0.63     0.86   0.81            Yes\n",
      "129    0.56  0.37     0.53   0.05            Yes), (0.57,      Python   Sql  Tableau  Excel Student Placed\n",
      "76     0.57  0.76     0.37   0.23             No\n",
      "143    0.57  0.36     0.53   0.15            Yes), (0.58,      Python   Sql  Tableau  Excel Student Placed\n",
      "126    0.58  0.93     0.33   0.14            Yes), (0.59,      Python   Sql  Tableau  Excel Student Placed\n",
      "136    0.59  0.97     0.18   0.41            Yes), (0.6,      Python   Sql  Tableau  Excel Student Placed\n",
      "100     0.6  0.51     0.86   0.19            Yes\n",
      "146     0.6  0.84     0.82   0.54             No\n",
      "198     0.6  0.99     0.71   0.93            Yes), (0.61,      Python   Sql  Tableau  Excel Student Placed\n",
      "71     0.61  0.09     0.36   0.88            Yes\n",
      "155    0.61  0.49     0.77   0.72             No), (0.62,      Python   Sql  Tableau  Excel Student Placed\n",
      "113    0.62  0.92     0.10   0.76             No\n",
      "193    0.62  0.13     0.41   0.77             No), (0.63,     Python   Sql  Tableau  Excel Student Placed\n",
      "69    0.63  0.62     0.96   0.09            Yes\n",
      "75    0.63  0.20     0.34   0.19             No), (0.65,      Python   Sql  Tableau  Excel Student Placed\n",
      "145    0.65  0.17     0.68   0.50             No\n",
      "178    0.65  0.69     0.64   0.88            Yes), (0.67,      Python   Sql  Tableau  Excel Student Placed\n",
      "80     0.67  0.59     0.45   0.00             No\n",
      "116    0.67  0.63     0.84   0.14             No\n",
      "120    0.67  0.11     0.72   0.63             No\n",
      "139    0.67  0.52     0.24   0.98            Yes), (0.68,      Python  Sql  Tableau  Excel Student Placed\n",
      "158    0.68  0.6     0.49   0.83             No), (0.69,      Python  Sql  Tableau  Excel Student Placed\n",
      "162    0.69  0.7     0.05   0.89            Yes), (0.7,      Python   Sql  Tableau  Excel Student Placed\n",
      "23      0.7  0.38     0.02   0.37            Yes\n",
      "89      0.7  0.82     0.52   0.93            Yes\n",
      "171     0.7  0.02     0.94   0.48            Yes), (0.71,      Python   Sql  Tableau  Excel Student Placed\n",
      "101    0.71  0.71     0.44   0.61            Yes\n",
      "105    0.71  0.47     0.72   0.08            Yes\n",
      "173    0.71  0.74     0.48   0.69            Yes), (0.73,      Python   Sql  Tableau  Excel Student Placed\n",
      "31     0.73  0.13     0.16   0.03            Yes\n",
      "34     0.73  0.99     0.90   0.01            Yes\n",
      "108    0.73  0.96     0.65   0.85            Yes\n",
      "182    0.73  0.68     0.21   0.44             No), (0.74,     Python   Sql  Tableau  Excel Student Placed\n",
      "53    0.74  0.26     0.72   0.64            Yes\n",
      "55    0.74  0.16     0.49   0.98            Yes\n",
      "85    0.74  0.84     0.87   0.55             No), (0.75,      Python   Sql  Tableau  Excel Student Placed\n",
      "77     0.75  0.86     0.32   0.58             No\n",
      "83     0.75  0.02     0.08   0.98             No\n",
      "141    0.75  0.15     0.82   0.52            Yes\n",
      "185    0.75  0.06     0.11   0.38             No), (0.76,      Python   Sql  Tableau  Excel Student Placed\n",
      "117    0.76  0.95     0.09   0.62             No), (0.77,      Python   Sql  Tableau  Excel Student Placed\n",
      "142    0.77  0.21     0.24   0.07            Yes), (0.79,     Python   Sql  Tableau  Excel Student Placed\n",
      "87    0.79  0.58     0.38   0.43            Yes), (0.8,      Python   Sql  Tableau  Excel Student Placed\n",
      "0       0.8  0.57     0.50   0.34            Yes\n",
      "90      0.8  0.62     0.57   0.90            Yes\n",
      "138     0.8  0.14     0.06   0.76            Yes\n",
      "140     0.8  0.91     0.89   0.18            Yes\n",
      "186     0.8  0.24     0.86   0.33             No), (0.81,      Python   Sql  Tableau  Excel Student Placed\n",
      "1      0.81  0.90     0.71   0.92             No\n",
      "8      0.81  0.17     0.50   0.61             No\n",
      "107    0.81  0.09     0.64   0.37            Yes\n",
      "150    0.81  0.70     0.55   0.57             No), (0.82,      Python   Sql  Tableau  Excel Student Placed\n",
      "125    0.82  0.69     0.62   0.84            Yes), (0.83,      Python   Sql  Tableau  Excel Student Placed\n",
      "37     0.83  0.65     0.40   0.04             No\n",
      "159    0.83  0.85     0.37   0.55            Yes\n",
      "163    0.83  0.11     0.09   0.05            Yes), (0.84,      Python   Sql  Tableau  Excel Student Placed\n",
      "70     0.84  0.58     0.44   0.75            Yes\n",
      "132    0.84  0.43     0.19   0.11            Yes\n",
      "144    0.84  0.91     0.05   0.26            Yes\n",
      "148    0.84  0.17     0.32   0.63             No), (0.86,      Python   Sql  Tableau  Excel Student Placed\n",
      "12     0.86  0.67     0.31   0.32             No\n",
      "65     0.86  0.58     0.31   0.06            Yes\n",
      "97     0.86  0.03     0.40   0.87            Yes\n",
      "165    0.86  0.83     0.93   0.63            Yes\n",
      "179    0.86  0.35     0.26   0.03            Yes), (0.87,      Python   Sql  Tableau  Excel Student Placed\n",
      "82     0.87  0.04     0.84   0.48             No\n",
      "103    0.87  0.21     0.91   0.86            Yes\n",
      "157    0.87  0.55     0.12   0.15             No\n",
      "199    0.87  0.23     0.45   0.42            Yes), (0.88,      Python   Sql  Tableau  Excel Student Placed\n",
      "14     0.88  0.83     0.19   0.63             No\n",
      "79     0.88  0.71     0.35   0.77             No\n",
      "112    0.88  0.61     0.04   0.94             No\n",
      "119    0.88  0.25     0.85   0.53             No\n",
      "189    0.88  0.05     0.01   0.07             No), (0.89,     Python   Sql  Tableau  Excel Student Placed\n",
      "18    0.89  0.01     0.51   0.47            Yes), (0.9,      Python   Sql  Tableau  Excel Student Placed\n",
      "58      0.9  0.14     0.31   0.74            Yes\n",
      "72      0.9  0.59     0.18   0.28            Yes\n",
      "81      0.9  0.75     0.83   0.53             No\n",
      "137     0.9  0.69     0.73   0.62            Yes), (0.91,     Python   Sql  Tableau  Excel Student Placed\n",
      "13    0.91  0.21     0.74   0.37             No\n",
      "35    0.91  0.43     0.74   0.89            Yes), (0.92,     Python   Sql  Tableau  Excel Student Placed\n",
      "67    0.92  0.48     0.59   0.07            Yes), (0.93,      Python   Sql  Tableau  Excel Student Placed\n",
      "153    0.93  0.43     0.11    0.6             No), (0.94,      Python   Sql  Tableau  Excel Student Placed\n",
      "51     0.94  0.61     0.87   0.88            Yes\n",
      "183    0.94  0.39     0.78   0.50             No), (0.95,      Python   Sql  Tableau  Excel Student Placed\n",
      "122    0.95  0.59     0.02   0.42             No\n",
      "197    0.95  0.65     0.74   0.61            Yes), (0.97,     Python   Sql  Tableau  Excel Student Placed\n",
      "54    0.97  0.75     0.44   0.10            Yes\n",
      "98    0.97  0.01     0.52   0.31            Yes), (0.98,      Python   Sql  Tableau  Excel Student Placed\n",
      "60     0.98  0.49     0.52   0.23            Yes\n",
      "194    0.98  0.42     0.03   0.43             No), (0.99,      Python   Sql  Tableau  Excel Student Placed\n",
      "32     0.99  0.30     0.89   0.27            Yes\n",
      "161    0.99  0.56     0.85   0.05            Yes\n",
      "169    0.99  0.42     0.68   0.85            Yes), (1.0,      Python   Sql  Tableau  Excel Student Placed\n",
      "133     1.0  0.37     0.27   0.26            Yes\n",
      "152     1.0  0.13     0.88   0.25             No\n",
      "191     1.0  0.35     0.91   0.87             No)]\n"
     ]
    }
   ],
   "source": [
    "gb = df.groupby('Python')\n",
    "print(list(gb))"
   ]
  },
  {
   "cell_type": "code",
   "execution_count": null,
   "id": "0489fb2f",
   "metadata": {},
   "outputs": [],
   "source": [
    "\n"
   ]
  },
  {
   "cell_type": "code",
   "execution_count": null,
   "id": "1911e5a0",
   "metadata": {},
   "outputs": [],
   "source": []
  }
 ],
 "metadata": {
  "kernelspec": {
   "display_name": "Python 3 (ipykernel)",
   "language": "python",
   "name": "python3"
  },
  "language_info": {
   "codemirror_mode": {
    "name": "ipython",
    "version": 3
   },
   "file_extension": ".py",
   "mimetype": "text/x-python",
   "name": "python",
   "nbconvert_exporter": "python",
   "pygments_lexer": "ipython3",
   "version": "3.11.5"
  }
 },
 "nbformat": 4,
 "nbformat_minor": 5
}
